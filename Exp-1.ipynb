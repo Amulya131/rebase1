{
 "cells": [
  {
   "cell_type": "code",
   "execution_count": 1,
   "metadata": {},
   "outputs": [],
   "source": [
    "import pandas as pd\n",
    "import numpy as np"
   ]
  },
  {
   "cell_type": "code",
   "execution_count": 19,
   "metadata": {},
   "outputs": [
    {
     "data": {
      "text/plain": [
       "array([5, 6, 7, 8])"
      ]
     },
     "execution_count": 19,
     "metadata": {},
     "output_type": "execute_result"
    }
   ],
   "source": [
    "np.array([5,6,7,8])"
   ]
  },
  {
   "cell_type": "code",
   "execution_count": 20,
   "metadata": {},
   "outputs": [
    {
     "data": {
      "text/plain": [
       "array([5., 6., 7., 8.], dtype=float32)"
      ]
     },
     "execution_count": 20,
     "metadata": {},
     "output_type": "execute_result"
    }
   ],
   "source": [
    "np.array([5,6,7,8],dtype=np.float32)"
   ]
  },
  {
   "cell_type": "code",
   "execution_count": 21,
   "metadata": {},
   "outputs": [
    {
     "data": {
      "text/plain": [
       "array([[1, 2, 3, 4],\n",
       "       [5, 6, 7, 8]])"
      ]
     },
     "execution_count": 21,
     "metadata": {},
     "output_type": "execute_result"
    }
   ],
   "source": [
    "np.array([[1,2,3,4],[5,6,7,8]])"
   ]
  },
  {
   "cell_type": "markdown",
   "metadata": {},
   "source": [
    "# array of zero's"
   ]
  },
  {
   "cell_type": "code",
   "execution_count": 5,
   "metadata": {},
   "outputs": [
    {
     "data": {
      "text/plain": [
       "array([0., 0., 0., 0., 0., 0.])"
      ]
     },
     "execution_count": 5,
     "metadata": {},
     "output_type": "execute_result"
    }
   ],
   "source": [
    "np.zeros(6)"
   ]
  },
  {
   "cell_type": "code",
   "execution_count": 7,
   "metadata": {},
   "outputs": [
    {
     "data": {
      "text/plain": [
       "array([[0., 0., 0., 0., 0.],\n",
       "       [0., 0., 0., 0., 0.],\n",
       "       [0., 0., 0., 0., 0.]])"
      ]
     },
     "execution_count": 7,
     "metadata": {},
     "output_type": "execute_result"
    }
   ],
   "source": [
    "np.zeros((3,5))"
   ]
  },
  {
   "cell_type": "code",
   "execution_count": 8,
   "metadata": {},
   "outputs": [
    {
     "data": {
      "text/plain": [
       "array([0, 0, 0, 0, 0, 0])"
      ]
     },
     "execution_count": 8,
     "metadata": {},
     "output_type": "execute_result"
    }
   ],
   "source": [
    "np.zeros(6,dtype=np.int32)"
   ]
  },
  {
   "cell_type": "markdown",
   "metadata": {},
   "source": [
    "# array of ones"
   ]
  },
  {
   "cell_type": "code",
   "execution_count": 9,
   "metadata": {},
   "outputs": [
    {
     "data": {
      "text/plain": [
       "array([1., 1., 1., 1., 1., 1.])"
      ]
     },
     "execution_count": 9,
     "metadata": {},
     "output_type": "execute_result"
    }
   ],
   "source": [
    "np.ones(6)"
   ]
  },
  {
   "cell_type": "code",
   "execution_count": 11,
   "metadata": {},
   "outputs": [
    {
     "data": {
      "text/plain": [
       "array([[1., 1., 1.],\n",
       "       [1., 1., 1.],\n",
       "       [1., 1., 1.]])"
      ]
     },
     "execution_count": 11,
     "metadata": {},
     "output_type": "execute_result"
    }
   ],
   "source": [
    "np.ones((3,3))"
   ]
  },
  {
   "cell_type": "code",
   "execution_count": 12,
   "metadata": {},
   "outputs": [
    {
     "data": {
      "text/plain": [
       "array([1., 1.], dtype=float32)"
      ]
     },
     "execution_count": 12,
     "metadata": {},
     "output_type": "execute_result"
    }
   ],
   "source": [
    "np.ones(2,dtype=np.float32)"
   ]
  },
  {
   "cell_type": "markdown",
   "metadata": {},
   "source": [
    "# random number in ndarray"
   ]
  },
  {
   "cell_type": "code",
   "execution_count": 13,
   "metadata": {},
   "outputs": [
    {
     "data": {
      "text/plain": [
       "array([[0.10687903, 0.32821661],\n",
       "       [0.95706927, 0.12644722],\n",
       "       [0.0406182 , 0.33118108]])"
      ]
     },
     "execution_count": 13,
     "metadata": {},
     "output_type": "execute_result"
    }
   ],
   "source": [
    "np.random.rand(3,2)"
   ]
  },
  {
   "cell_type": "code",
   "execution_count": 14,
   "metadata": {},
   "outputs": [
    {
     "data": {
      "text/plain": [
       "array([[4, 4, 4],\n",
       "       [4, 4, 4]])"
      ]
     },
     "execution_count": 14,
     "metadata": {},
     "output_type": "execute_result"
    }
   ],
   "source": [
    "np.full((2,3),4)"
   ]
  },
  {
   "cell_type": "markdown",
   "metadata": {},
   "source": [
    "# Imatrix in numpy"
   ]
  },
  {
   "cell_type": "code",
   "execution_count": 25,
   "metadata": {},
   "outputs": [
    {
     "data": {
      "text/plain": [
       "array([[1., 0.],\n",
       "       [0., 1.]])"
      ]
     },
     "execution_count": 25,
     "metadata": {},
     "output_type": "execute_result"
    }
   ],
   "source": [
    "np.eye(2)"
   ]
  },
  {
   "cell_type": "code",
   "execution_count": 26,
   "metadata": {},
   "outputs": [
    {
     "data": {
      "text/plain": [
       "array([[0., 1., 0., 0.],\n",
       "       [0., 0., 1., 0.],\n",
       "       [0., 0., 0., 1.],\n",
       "       [0., 0., 0., 0.]])"
      ]
     },
     "execution_count": 26,
     "metadata": {},
     "output_type": "execute_result"
    }
   ],
   "source": [
    "np.eye(4,k=1)"
   ]
  },
  {
   "cell_type": "code",
   "execution_count": 17,
   "metadata": {},
   "outputs": [
    {
     "data": {
      "text/plain": [
       "array([[0., 0., 1., 0., 0., 0.],\n",
       "       [0., 0., 0., 1., 0., 0.],\n",
       "       [0., 0., 0., 0., 1., 0.],\n",
       "       [0., 0., 0., 0., 0., 1.],\n",
       "       [0., 0., 0., 0., 0., 0.],\n",
       "       [0., 0., 0., 0., 0., 0.]])"
      ]
     },
     "execution_count": 17,
     "metadata": {},
     "output_type": "execute_result"
    }
   ],
   "source": [
    "np.eye(6,k=2)"
   ]
  },
  {
   "cell_type": "code",
   "execution_count": 28,
   "metadata": {},
   "outputs": [
    {
     "data": {
      "text/plain": [
       "array([[0., 0., 0.],\n",
       "       [1., 0., 0.],\n",
       "       [0., 1., 0.]])"
      ]
     },
     "execution_count": 28,
     "metadata": {},
     "output_type": "execute_result"
    }
   ],
   "source": [
    "np.eye(3,k=-1)"
   ]
  },
  {
   "cell_type": "markdown",
   "metadata": {},
   "source": [
    "# evenly spaced\n"
   ]
  },
  {
   "cell_type": "code",
   "execution_count": 29,
   "metadata": {},
   "outputs": [
    {
     "data": {
      "text/plain": [
       "array([0, 1, 2, 3, 4, 5, 6, 7, 8, 9])"
      ]
     },
     "execution_count": 29,
     "metadata": {},
     "output_type": "execute_result"
    }
   ],
   "source": [
    "np.arange(10)"
   ]
  },
  {
   "cell_type": "code",
   "execution_count": 30,
   "metadata": {},
   "outputs": [
    {
     "data": {
      "text/plain": [
       "array([0, 3, 6, 9])"
      ]
     },
     "execution_count": 30,
     "metadata": {},
     "output_type": "execute_result"
    }
   ],
   "source": [
    "np.arange(0,10,3)"
   ]
  },
  {
   "cell_type": "markdown",
   "metadata": {},
   "source": [
    "# dimensions of numpy"
   ]
  },
  {
   "cell_type": "code",
   "execution_count": 36,
   "metadata": {},
   "outputs": [
    {
     "data": {
      "text/plain": [
       "array([[ 5, 10, 15],\n",
       "       [20, 25, 20]])"
      ]
     },
     "execution_count": 36,
     "metadata": {},
     "output_type": "execute_result"
    }
   ],
   "source": [
    "a = np.array([[5,10,15],[20,25,20]])\n",
    "a.ndim\n",
    "a\n"
   ]
  },
  {
   "cell_type": "code",
   "execution_count": 34,
   "metadata": {},
   "outputs": [
    {
     "data": {
      "text/plain": [
       "2"
      ]
     },
     "execution_count": 34,
     "metadata": {},
     "output_type": "execute_result"
    }
   ],
   "source": [
    "a.ndim"
   ]
  },
  {
   "cell_type": "markdown",
   "metadata": {},
   "source": [
    "# shape of numpy"
   ]
  },
  {
   "cell_type": "code",
   "execution_count": 60,
   "metadata": {},
   "outputs": [
    {
     "data": {
      "text/plain": [
       "array([[1, 2, 3],\n",
       "       [4, 5, 6]])"
      ]
     },
     "execution_count": 60,
     "metadata": {},
     "output_type": "execute_result"
    }
   ],
   "source": [
    "\n",
    "b= np.array([[1,2,3],[4,5,6]])\n",
    "b"
   ]
  },
  {
   "cell_type": "code",
   "execution_count": 59,
   "metadata": {},
   "outputs": [
    {
     "data": {
      "text/plain": [
       "2"
      ]
     },
     "execution_count": 59,
     "metadata": {},
     "output_type": "execute_result"
    }
   ],
   "source": [
    "b.shape[0]\n"
   ]
  },
  {
   "cell_type": "code",
   "execution_count": 56,
   "metadata": {},
   "outputs": [
    {
     "data": {
      "text/plain": [
       "3"
      ]
     },
     "execution_count": 56,
     "metadata": {},
     "output_type": "execute_result"
    }
   ],
   "source": [
    "b.shape[1]"
   ]
  },
  {
   "cell_type": "markdown",
   "metadata": {},
   "source": [
    "# size of numpy"
   ]
  },
  {
   "cell_type": "code",
   "execution_count": 58,
   "metadata": {},
   "outputs": [
    {
     "data": {
      "text/plain": [
       "6"
      ]
     },
     "execution_count": 58,
     "metadata": {},
     "output_type": "execute_result"
    }
   ],
   "source": [
    "b.size"
   ]
  },
  {
   "cell_type": "markdown",
   "metadata": {},
   "source": [
    "# reshaping of numpy"
   ]
  },
  {
   "cell_type": "code",
   "execution_count": 61,
   "metadata": {},
   "outputs": [
    {
     "data": {
      "text/plain": [
       "array([[ 3,  6],\n",
       "       [ 9, 12]])"
      ]
     },
     "execution_count": 61,
     "metadata": {},
     "output_type": "execute_result"
    }
   ],
   "source": [
    "a = np.array([3,6,9,12])\n",
    "np.reshape(a,(2,2))\n"
   ]
  },
  {
   "cell_type": "markdown",
   "metadata": {},
   "source": [
    "# flattening of numpy"
   ]
  },
  {
   "cell_type": "code",
   "execution_count": 81,
   "metadata": {},
   "outputs": [
    {
     "name": "stdout",
     "output_type": "stream",
     "text": [
      "[[1. 1.]\n",
      " [1. 1.]]\n"
     ]
    }
   ],
   "source": [
    "a = np.ones((2,2))\n",
    "b = a.flatten()\n",
    "c = a.ravel()\n",
    "print(a)"
   ]
  },
  {
   "cell_type": "code",
   "execution_count": 82,
   "metadata": {},
   "outputs": [
    {
     "name": "stdout",
     "output_type": "stream",
     "text": [
      "[1. 1. 1. 1.]\n"
     ]
    }
   ],
   "source": [
    "a = np.ones((2,2))\n",
    "b = a.flatten()\n",
    "c = a.ravel()\n",
    "print(b)"
   ]
  },
  {
   "cell_type": "code",
   "execution_count": 83,
   "metadata": {},
   "outputs": [
    {
     "name": "stdout",
     "output_type": "stream",
     "text": [
      "[1. 1. 1. 1. 1. 1. 1. 1.]\n"
     ]
    }
   ],
   "source": [
    "a = np.ones((4,2))\n",
    "b = a.flatten()\n",
    "c = a.ravel()\n",
    "print(c)"
   ]
  },
  {
   "cell_type": "markdown",
   "metadata": {},
   "source": [
    "# transpose"
   ]
  },
  {
   "cell_type": "code",
   "execution_count": 84,
   "metadata": {},
   "outputs": [
    {
     "data": {
      "text/plain": [
       "array([[1, 2, 3],\n",
       "       [4, 5, 6]])"
      ]
     },
     "execution_count": 84,
     "metadata": {},
     "output_type": "execute_result"
    }
   ],
   "source": [
    "a = np.array([[1,2,3],\n",
    "[4,5,6]])\n",
    "b = np.transpose(a)\n",
    "a"
   ]
  },
  {
   "cell_type": "code",
   "execution_count": 85,
   "metadata": {},
   "outputs": [
    {
     "data": {
      "text/plain": [
       "array([[1, 4],\n",
       "       [2, 5],\n",
       "       [3, 6]])"
      ]
     },
     "execution_count": 85,
     "metadata": {},
     "output_type": "execute_result"
    }
   ],
   "source": [
    "b"
   ]
  },
  {
   "cell_type": "markdown",
   "metadata": {},
   "source": [
    "# slicing 1-d"
   ]
  },
  {
   "cell_type": "code",
   "execution_count": 88,
   "metadata": {},
   "outputs": [
    {
     "name": "stdout",
     "output_type": "stream",
     "text": [
      "[2 4]\n"
     ]
    }
   ],
   "source": [
    "a = np.array([1,2,3,4,5,6])\n",
    "print(a[1:5:2])\n"
   ]
  },
  {
   "cell_type": "code",
   "execution_count": 89,
   "metadata": {},
   "outputs": [
    {
     "name": "stdout",
     "output_type": "stream",
     "text": [
      "[2 4 6]\n"
     ]
    }
   ],
   "source": [
    "a = np.array([1,2,3,4,5,6])\n",
    "print(a[1:6:2])"
   ]
  },
  {
   "cell_type": "markdown",
   "metadata": {},
   "source": [
    "# slicing 2-d"
   ]
  },
  {
   "cell_type": "code",
   "execution_count": 102,
   "metadata": {},
   "outputs": [
    {
     "name": "stdout",
     "output_type": "stream",
     "text": [
      "[[1 2 3]]\n"
     ]
    }
   ],
   "source": [
    "a = np.array([[1,2,3],[4,5,6]])\n",
    "print(a[0:1,:])\n",
    "\n"
   ]
  },
  {
   "cell_type": "markdown",
   "metadata": {},
   "source": [
    "# slicing 3-d"
   ]
  },
  {
   "cell_type": "code",
   "execution_count": 103,
   "metadata": {},
   "outputs": [
    {
     "name": "stdout",
     "output_type": "stream",
     "text": [
      "[[[ 1  2]\n",
      "  [ 3  4]\n",
      "  [ 5  6]]\n",
      "\n",
      " [[ 7  8]\n",
      "  [ 9 10]\n",
      "  [11 12]]\n",
      "\n",
      " [[13 14]\n",
      "  [15 16]\n",
      "  [17 18]]]\n"
     ]
    }
   ],
   "source": [
    "a = np.array([[[1,2],[3,4],[5,6]],\n",
    "[[7,8],[9,10],[11,12]],\n",
    "[[13,14],[15,16],[17,18]]])\n",
    "\n",
    "print(a)"
   ]
  },
  {
   "cell_type": "markdown",
   "metadata": {},
   "source": [
    "# Negative slicing of NumPy arrays"
   ]
  },
  {
   "cell_type": "code",
   "execution_count": 104,
   "metadata": {},
   "outputs": [
    {
     "name": "stdout",
     "output_type": "stream",
     "text": [
      "[ 5 10]\n"
     ]
    }
   ],
   "source": [
    "a = np.array([[1,2,3,4,5],\n",
    "[6,7,8,9,10]])\n",
    "print(a[:,-1])\n"
   ]
  },
  {
   "cell_type": "code",
   "execution_count": 105,
   "metadata": {},
   "outputs": [
    {
     "name": "stdout",
     "output_type": "stream",
     "text": [
      "[[ 5  4]\n",
      " [10  9]]\n"
     ]
    }
   ],
   "source": [
    "print(a[:,-1:-3:-1])\n"
   ]
  },
  {
   "cell_type": "markdown",
   "metadata": {},
   "source": [
    "# creating a data frame"
   ]
  },
  {
   "cell_type": "code",
   "execution_count": 106,
   "metadata": {},
   "outputs": [
    {
     "name": "stdout",
     "output_type": "stream",
     "text": [
      "   Name  Age\n",
      "0   tom   10\n",
      "1  nick   15\n",
      "2  juli   14\n"
     ]
    }
   ],
   "source": [
    "\n",
    "import pandas as pd\n",
    " \n",
    "\n",
    "data = [['tom', 10], ['nick', 15], ['juli', 14]]\n",
    " \n",
    "\n",
    "df = pd.DataFrame(data, columns=['Name', 'Age'])\n",
    " \n",
    "\n",
    "print(df)"
   ]
  },
  {
   "cell_type": "markdown",
   "metadata": {},
   "source": [
    "# concat()\n"
   ]
  },
  {
   "cell_type": "code",
   "execution_count": 108,
   "metadata": {},
   "outputs": [
    {
     "data": {
      "text/plain": [
       "0    a\n",
       "1    b\n",
       "0    c\n",
       "1    d\n",
       "dtype: object"
      ]
     },
     "execution_count": 108,
     "metadata": {},
     "output_type": "execute_result"
    }
   ],
   "source": [
    "s1 = pd.Series(['a', 'b'])\n",
    "s2 = pd.Series(['c', 'd'])\n",
    "pd.concat([s1, s2])"
   ]
  },
  {
   "cell_type": "markdown",
   "metadata": {},
   "source": [
    "# Setting conditions"
   ]
  },
  {
   "cell_type": "code",
   "execution_count": 115,
   "metadata": {},
   "outputs": [
    {
     "data": {
      "text/html": [
       "<div>\n",
       "<style scoped>\n",
       "    .dataframe tbody tr th:only-of-type {\n",
       "        vertical-align: middle;\n",
       "    }\n",
       "\n",
       "    .dataframe tbody tr th {\n",
       "        vertical-align: top;\n",
       "    }\n",
       "\n",
       "    .dataframe thead th {\n",
       "        text-align: right;\n",
       "    }\n",
       "</style>\n",
       "<table border=\"1\" class=\"dataframe\">\n",
       "  <thead>\n",
       "    <tr style=\"text-align: right;\">\n",
       "      <th></th>\n",
       "      <th>Book_Name</th>\n",
       "      <th>Author</th>\n",
       "      <th>Price</th>\n",
       "    </tr>\n",
       "  </thead>\n",
       "  <tbody>\n",
       "    <tr>\n",
       "      <th>0</th>\n",
       "      <td>Arihant</td>\n",
       "      <td>Madhumita Pattrea</td>\n",
       "      <td>350</td>\n",
       "    </tr>\n",
       "    <tr>\n",
       "      <th>1</th>\n",
       "      <td>Oxford</td>\n",
       "      <td>Oscar Wilde</td>\n",
       "      <td>880</td>\n",
       "    </tr>\n",
       "    <tr>\n",
       "      <th>2</th>\n",
       "      <td>Pearson</td>\n",
       "      <td>Jhon Pearson</td>\n",
       "      <td>490</td>\n",
       "    </tr>\n",
       "    <tr>\n",
       "      <th>3</th>\n",
       "      <td>Cengage</td>\n",
       "      <td>G Tewani</td>\n",
       "      <td>1100</td>\n",
       "    </tr>\n",
       "    <tr>\n",
       "      <th>4</th>\n",
       "      <td>Disha</td>\n",
       "      <td>Disha</td>\n",
       "      <td>450</td>\n",
       "    </tr>\n",
       "  </tbody>\n",
       "</table>\n",
       "</div>"
      ],
      "text/plain": [
       "  Book_Name             Author  Price\n",
       "0   Arihant  Madhumita Pattrea    350\n",
       "1    Oxford        Oscar Wilde    880\n",
       "2   Pearson       Jhon Pearson    490\n",
       "3   Cengage           G Tewani   1100\n",
       "4     Disha              Disha    450"
      ]
     },
     "execution_count": 115,
     "metadata": {},
     "output_type": "execute_result"
    }
   ],
   "source": [
    "data = {'Book_Name': ['Arihant', 'Oxford', 'Pearson', 'Cengage', 'Disha'],\n",
    "        'Author': ['Madhumita Pattrea', 'Oscar Wilde', 'Jhon Pearson', 'G Tewani', 'Disha'],\n",
    "         'Price': [350,880,490,1100,450]}\n",
    "  \n",
    "df = pd.DataFrame(data)\n",
    "df"
   ]
  },
  {
   "cell_type": "code",
   "execution_count": 117,
   "metadata": {},
   "outputs": [
    {
     "data": {
      "text/html": [
       "<div>\n",
       "<style scoped>\n",
       "    .dataframe tbody tr th:only-of-type {\n",
       "        vertical-align: middle;\n",
       "    }\n",
       "\n",
       "    .dataframe tbody tr th {\n",
       "        vertical-align: top;\n",
       "    }\n",
       "\n",
       "    .dataframe thead th {\n",
       "        text-align: right;\n",
       "    }\n",
       "</style>\n",
       "<table border=\"1\" class=\"dataframe\">\n",
       "  <thead>\n",
       "    <tr style=\"text-align: right;\">\n",
       "      <th></th>\n",
       "      <th>Book_Name</th>\n",
       "      <th>Author</th>\n",
       "      <th>Price</th>\n",
       "    </tr>\n",
       "  </thead>\n",
       "  <tbody>\n",
       "    <tr>\n",
       "      <th>2</th>\n",
       "      <td>Pearson</td>\n",
       "      <td>Jhon Pearson</td>\n",
       "      <td>490</td>\n",
       "    </tr>\n",
       "  </tbody>\n",
       "</table>\n",
       "</div>"
      ],
      "text/plain": [
       "  Book_Name        Author  Price\n",
       "2   Pearson  Jhon Pearson    490"
      ]
     },
     "execution_count": 117,
     "metadata": {},
     "output_type": "execute_result"
    }
   ],
   "source": [
    "df[(df['Price'] ==490)]"
   ]
  },
  {
   "cell_type": "markdown",
   "metadata": {},
   "source": [
    "# adding a new column"
   ]
  },
  {
   "cell_type": "code",
   "execution_count": 119,
   "metadata": {},
   "outputs": [
    {
     "data": {
      "text/html": [
       "<div>\n",
       "<style scoped>\n",
       "    .dataframe tbody tr th:only-of-type {\n",
       "        vertical-align: middle;\n",
       "    }\n",
       "\n",
       "    .dataframe tbody tr th {\n",
       "        vertical-align: top;\n",
       "    }\n",
       "\n",
       "    .dataframe thead th {\n",
       "        text-align: right;\n",
       "    }\n",
       "</style>\n",
       "<table border=\"1\" class=\"dataframe\">\n",
       "  <thead>\n",
       "    <tr style=\"text-align: right;\">\n",
       "      <th></th>\n",
       "      <th>Book_Name</th>\n",
       "      <th>Author</th>\n",
       "      <th>no.of items</th>\n",
       "      <th>no.of items</th>\n",
       "      <th>Price</th>\n",
       "    </tr>\n",
       "  </thead>\n",
       "  <tbody>\n",
       "    <tr>\n",
       "      <th>0</th>\n",
       "      <td>Arihant</td>\n",
       "      <td>Madhumita Pattrea</td>\n",
       "      <td>1</td>\n",
       "      <td>1</td>\n",
       "      <td>350</td>\n",
       "    </tr>\n",
       "    <tr>\n",
       "      <th>1</th>\n",
       "      <td>Oxford</td>\n",
       "      <td>Oscar Wilde</td>\n",
       "      <td>4</td>\n",
       "      <td>4</td>\n",
       "      <td>880</td>\n",
       "    </tr>\n",
       "    <tr>\n",
       "      <th>2</th>\n",
       "      <td>Pearson</td>\n",
       "      <td>Jhon Pearson</td>\n",
       "      <td>5</td>\n",
       "      <td>5</td>\n",
       "      <td>490</td>\n",
       "    </tr>\n",
       "    <tr>\n",
       "      <th>3</th>\n",
       "      <td>Cengage</td>\n",
       "      <td>G Tewani</td>\n",
       "      <td>6</td>\n",
       "      <td>6</td>\n",
       "      <td>1100</td>\n",
       "    </tr>\n",
       "    <tr>\n",
       "      <th>4</th>\n",
       "      <td>Disha</td>\n",
       "      <td>Disha</td>\n",
       "      <td>7</td>\n",
       "      <td>7</td>\n",
       "      <td>450</td>\n",
       "    </tr>\n",
       "  </tbody>\n",
       "</table>\n",
       "</div>"
      ],
      "text/plain": [
       "  Book_Name             Author  no.of items  no.of items  Price\n",
       "0   Arihant  Madhumita Pattrea            1            1    350\n",
       "1    Oxford        Oscar Wilde            4            4    880\n",
       "2   Pearson       Jhon Pearson            5            5    490\n",
       "3   Cengage           G Tewani            6            6   1100\n",
       "4     Disha              Disha            7            7    450"
      ]
     },
     "execution_count": 119,
     "metadata": {},
     "output_type": "execute_result"
    }
   ],
   "source": [
    "df.insert(2,\"no.of items\",[1,4,5,6,7],True)\n",
    "df"
   ]
  },
  {
   "cell_type": "markdown",
   "metadata": {},
   "source": [
    "# csv file"
   ]
  },
  {
   "cell_type": "code",
   "execution_count": 120,
   "metadata": {},
   "outputs": [
    {
     "data": {
      "text/html": [
       "<div>\n",
       "<style scoped>\n",
       "    .dataframe tbody tr th:only-of-type {\n",
       "        vertical-align: middle;\n",
       "    }\n",
       "\n",
       "    .dataframe tbody tr th {\n",
       "        vertical-align: top;\n",
       "    }\n",
       "\n",
       "    .dataframe thead th {\n",
       "        text-align: right;\n",
       "    }\n",
       "</style>\n",
       "<table border=\"1\" class=\"dataframe\">\n",
       "  <thead>\n",
       "    <tr style=\"text-align: right;\">\n",
       "      <th></th>\n",
       "      <th>Duration</th>\n",
       "      <th>Pulse</th>\n",
       "      <th>Maxpulse</th>\n",
       "      <th>Calories</th>\n",
       "    </tr>\n",
       "  </thead>\n",
       "  <tbody>\n",
       "    <tr>\n",
       "      <th>0</th>\n",
       "      <td>60</td>\n",
       "      <td>110</td>\n",
       "      <td>130</td>\n",
       "      <td>409.1</td>\n",
       "    </tr>\n",
       "    <tr>\n",
       "      <th>1</th>\n",
       "      <td>60</td>\n",
       "      <td>117</td>\n",
       "      <td>145</td>\n",
       "      <td>479.0</td>\n",
       "    </tr>\n",
       "    <tr>\n",
       "      <th>2</th>\n",
       "      <td>60</td>\n",
       "      <td>103</td>\n",
       "      <td>135</td>\n",
       "      <td>340.0</td>\n",
       "    </tr>\n",
       "    <tr>\n",
       "      <th>3</th>\n",
       "      <td>45</td>\n",
       "      <td>109</td>\n",
       "      <td>175</td>\n",
       "      <td>282.4</td>\n",
       "    </tr>\n",
       "    <tr>\n",
       "      <th>4</th>\n",
       "      <td>45</td>\n",
       "      <td>117</td>\n",
       "      <td>148</td>\n",
       "      <td>406.0</td>\n",
       "    </tr>\n",
       "    <tr>\n",
       "      <th>5</th>\n",
       "      <td>60</td>\n",
       "      <td>102</td>\n",
       "      <td>127</td>\n",
       "      <td>300.5</td>\n",
       "    </tr>\n",
       "    <tr>\n",
       "      <th>6</th>\n",
       "      <td>60</td>\n",
       "      <td>110</td>\n",
       "      <td>136</td>\n",
       "      <td>374.0</td>\n",
       "    </tr>\n",
       "    <tr>\n",
       "      <th>7</th>\n",
       "      <td>45</td>\n",
       "      <td>104</td>\n",
       "      <td>134</td>\n",
       "      <td>253.3</td>\n",
       "    </tr>\n",
       "    <tr>\n",
       "      <th>8</th>\n",
       "      <td>30</td>\n",
       "      <td>109</td>\n",
       "      <td>133</td>\n",
       "      <td>195.1</td>\n",
       "    </tr>\n",
       "    <tr>\n",
       "      <th>9</th>\n",
       "      <td>60</td>\n",
       "      <td>98</td>\n",
       "      <td>124</td>\n",
       "      <td>269.0</td>\n",
       "    </tr>\n",
       "    <tr>\n",
       "      <th>10</th>\n",
       "      <td>60</td>\n",
       "      <td>103</td>\n",
       "      <td>147</td>\n",
       "      <td>329.3</td>\n",
       "    </tr>\n",
       "    <tr>\n",
       "      <th>11</th>\n",
       "      <td>60</td>\n",
       "      <td>100</td>\n",
       "      <td>120</td>\n",
       "      <td>250.7</td>\n",
       "    </tr>\n",
       "    <tr>\n",
       "      <th>12</th>\n",
       "      <td>60</td>\n",
       "      <td>106</td>\n",
       "      <td>128</td>\n",
       "      <td>345.3</td>\n",
       "    </tr>\n",
       "    <tr>\n",
       "      <th>13</th>\n",
       "      <td>60</td>\n",
       "      <td>104</td>\n",
       "      <td>132</td>\n",
       "      <td>379.3</td>\n",
       "    </tr>\n",
       "    <tr>\n",
       "      <th>14</th>\n",
       "      <td>60</td>\n",
       "      <td>98</td>\n",
       "      <td>123</td>\n",
       "      <td>275.0</td>\n",
       "    </tr>\n",
       "    <tr>\n",
       "      <th>15</th>\n",
       "      <td>60</td>\n",
       "      <td>98</td>\n",
       "      <td>120</td>\n",
       "      <td>215.2</td>\n",
       "    </tr>\n",
       "    <tr>\n",
       "      <th>16</th>\n",
       "      <td>60</td>\n",
       "      <td>100</td>\n",
       "      <td>120</td>\n",
       "      <td>300.0</td>\n",
       "    </tr>\n",
       "  </tbody>\n",
       "</table>\n",
       "</div>"
      ],
      "text/plain": [
       "    Duration  Pulse  Maxpulse  Calories\n",
       "0         60    110       130     409.1\n",
       "1         60    117       145     479.0\n",
       "2         60    103       135     340.0\n",
       "3         45    109       175     282.4\n",
       "4         45    117       148     406.0\n",
       "5         60    102       127     300.5\n",
       "6         60    110       136     374.0\n",
       "7         45    104       134     253.3\n",
       "8         30    109       133     195.1\n",
       "9         60     98       124     269.0\n",
       "10        60    103       147     329.3\n",
       "11        60    100       120     250.7\n",
       "12        60    106       128     345.3\n",
       "13        60    104       132     379.3\n",
       "14        60     98       123     275.0\n",
       "15        60     98       120     215.2\n",
       "16        60    100       120     300.0"
      ]
     },
     "execution_count": 120,
     "metadata": {},
     "output_type": "execute_result"
    }
   ],
   "source": [
    "dff=pd.read_csv('data.csv')\n",
    "dff"
   ]
  },
  {
   "cell_type": "markdown",
   "metadata": {},
   "source": [
    "# xlsx file"
   ]
  },
  {
   "cell_type": "code",
   "execution_count": 122,
   "metadata": {},
   "outputs": [
    {
     "data": {
      "text/html": [
       "<div>\n",
       "<style scoped>\n",
       "    .dataframe tbody tr th:only-of-type {\n",
       "        vertical-align: middle;\n",
       "    }\n",
       "\n",
       "    .dataframe tbody tr th {\n",
       "        vertical-align: top;\n",
       "    }\n",
       "\n",
       "    .dataframe thead th {\n",
       "        text-align: right;\n",
       "    }\n",
       "</style>\n",
       "<table border=\"1\" class=\"dataframe\">\n",
       "  <thead>\n",
       "    <tr style=\"text-align: right;\">\n",
       "      <th></th>\n",
       "      <th>name</th>\n",
       "      <th>age</th>\n",
       "      <th>marks</th>\n",
       "    </tr>\n",
       "  </thead>\n",
       "  <tbody>\n",
       "    <tr>\n",
       "      <th>0</th>\n",
       "      <td>smith</td>\n",
       "      <td>25</td>\n",
       "      <td>86</td>\n",
       "    </tr>\n",
       "    <tr>\n",
       "      <th>1</th>\n",
       "      <td>parker</td>\n",
       "      <td>23</td>\n",
       "      <td>97</td>\n",
       "    </tr>\n",
       "    <tr>\n",
       "      <th>2</th>\n",
       "      <td>john</td>\n",
       "      <td>21</td>\n",
       "      <td>69</td>\n",
       "    </tr>\n",
       "  </tbody>\n",
       "</table>\n",
       "</div>"
      ],
      "text/plain": [
       "     name  age  marks\n",
       "0   smith   25     86\n",
       "1  parker   23     97\n",
       "2    john   21     69"
      ]
     },
     "execution_count": 122,
     "metadata": {},
     "output_type": "execute_result"
    }
   ],
   "source": [
    "df=pd.read_excel('Book.xlsx')\n",
    "df"
   ]
  },
  {
   "cell_type": "markdown",
   "metadata": {},
   "source": [
    "# json file"
   ]
  },
  {
   "cell_type": "code",
   "execution_count": 123,
   "metadata": {},
   "outputs": [
    {
     "data": {
      "text/html": [
       "<div>\n",
       "<style scoped>\n",
       "    .dataframe tbody tr th:only-of-type {\n",
       "        vertical-align: middle;\n",
       "    }\n",
       "\n",
       "    .dataframe tbody tr th {\n",
       "        vertical-align: top;\n",
       "    }\n",
       "\n",
       "    .dataframe thead th {\n",
       "        text-align: right;\n",
       "    }\n",
       "</style>\n",
       "<table border=\"1\" class=\"dataframe\">\n",
       "  <thead>\n",
       "    <tr style=\"text-align: right;\">\n",
       "      <th></th>\n",
       "      <th>body</th>\n",
       "      <th>id</th>\n",
       "      <th>title</th>\n",
       "      <th>userId</th>\n",
       "    </tr>\n",
       "  </thead>\n",
       "  <tbody>\n",
       "    <tr>\n",
       "      <th>0</th>\n",
       "      <td>quia et suscipit\\nsuscipit recusandae consequu...</td>\n",
       "      <td>1</td>\n",
       "      <td>sunt aut facere repellat provident occaecati e...</td>\n",
       "      <td>1</td>\n",
       "    </tr>\n",
       "    <tr>\n",
       "      <th>1</th>\n",
       "      <td>est rerum tempore vitae\\nsequi sint nihil repr...</td>\n",
       "      <td>2</td>\n",
       "      <td>qui est esse</td>\n",
       "      <td>1</td>\n",
       "    </tr>\n",
       "    <tr>\n",
       "      <th>2</th>\n",
       "      <td>et iusto sed quo iure\\nvoluptatem occaecati om...</td>\n",
       "      <td>3</td>\n",
       "      <td>ea molestias quasi exercitationem repellat qui...</td>\n",
       "      <td>1</td>\n",
       "    </tr>\n",
       "    <tr>\n",
       "      <th>3</th>\n",
       "      <td>ullam et saepe reiciendis voluptatem adipisci\\...</td>\n",
       "      <td>4</td>\n",
       "      <td>eum et est occaecati</td>\n",
       "      <td>1</td>\n",
       "    </tr>\n",
       "    <tr>\n",
       "      <th>4</th>\n",
       "      <td>repudiandae veniam quaerat sunt sed\\nalias aut...</td>\n",
       "      <td>5</td>\n",
       "      <td>nesciunt quas odio</td>\n",
       "      <td>1</td>\n",
       "    </tr>\n",
       "    <tr>\n",
       "      <th>5</th>\n",
       "      <td>ut aspernatur corporis harum nihil quis provid...</td>\n",
       "      <td>6</td>\n",
       "      <td>dolorem eum magni eos aperiam quia</td>\n",
       "      <td>1</td>\n",
       "    </tr>\n",
       "    <tr>\n",
       "      <th>6</th>\n",
       "      <td>dolore placeat quibusdam ea quo vitae\\nmagni q...</td>\n",
       "      <td>7</td>\n",
       "      <td>magnam facilis autem</td>\n",
       "      <td>1</td>\n",
       "    </tr>\n",
       "    <tr>\n",
       "      <th>7</th>\n",
       "      <td>dignissimos aperiam dolorem qui eum\\nfacilis q...</td>\n",
       "      <td>8</td>\n",
       "      <td>dolorem dolore est ipsam</td>\n",
       "      <td>1</td>\n",
       "    </tr>\n",
       "    <tr>\n",
       "      <th>8</th>\n",
       "      <td>consectetur animi nesciunt iure dolore\\nenim q...</td>\n",
       "      <td>9</td>\n",
       "      <td>nesciunt iure omnis dolorem tempora et accusan...</td>\n",
       "      <td>1</td>\n",
       "    </tr>\n",
       "    <tr>\n",
       "      <th>9</th>\n",
       "      <td>quo et expedita modi cum officia vel magni\\ndo...</td>\n",
       "      <td>10</td>\n",
       "      <td>optio molestias id quia eum</td>\n",
       "      <td>1</td>\n",
       "    </tr>\n",
       "    <tr>\n",
       "      <th>10</th>\n",
       "      <td>delectus reiciendis molestiae occaecati non mi...</td>\n",
       "      <td>11</td>\n",
       "      <td>et ea vero quia laudantium autem</td>\n",
       "      <td>2</td>\n",
       "    </tr>\n",
       "    <tr>\n",
       "      <th>11</th>\n",
       "      <td>itaque id aut magnam\\npraesentium quia et ea o...</td>\n",
       "      <td>12</td>\n",
       "      <td>in quibusdam tempore odit est dolorem</td>\n",
       "      <td>2</td>\n",
       "    </tr>\n",
       "    <tr>\n",
       "      <th>12</th>\n",
       "      <td>aut dicta possimus sint mollitia voluptas comm...</td>\n",
       "      <td>13</td>\n",
       "      <td>dolorum ut in voluptas mollitia et saepe quo a...</td>\n",
       "      <td>2</td>\n",
       "    </tr>\n",
       "    <tr>\n",
       "      <th>13</th>\n",
       "      <td>fuga et accusamus dolorum perferendis illo vol...</td>\n",
       "      <td>14</td>\n",
       "      <td>voluptatem eligendi optio</td>\n",
       "      <td>2</td>\n",
       "    </tr>\n",
       "    <tr>\n",
       "      <th>14</th>\n",
       "      <td>reprehenderit quos placeat\\nvelit minima offic...</td>\n",
       "      <td>15</td>\n",
       "      <td>eveniet quod temporibus</td>\n",
       "      <td>2</td>\n",
       "    </tr>\n",
       "    <tr>\n",
       "      <th>15</th>\n",
       "      <td>suscipit nam nisi quo aperiam aut\\nasperiores ...</td>\n",
       "      <td>16</td>\n",
       "      <td>sint suscipit perspiciatis velit dolorum rerum...</td>\n",
       "      <td>2</td>\n",
       "    </tr>\n",
       "    <tr>\n",
       "      <th>16</th>\n",
       "      <td>eos voluptas et aut odit natus earum\\naspernat...</td>\n",
       "      <td>17</td>\n",
       "      <td>fugit voluptas sed molestias voluptatem provident</td>\n",
       "      <td>2</td>\n",
       "    </tr>\n",
       "    <tr>\n",
       "      <th>17</th>\n",
       "      <td>eveniet quo quis\\nlaborum totam consequatur no...</td>\n",
       "      <td>18</td>\n",
       "      <td>voluptate et itaque vero tempora molestiae</td>\n",
       "      <td>2</td>\n",
       "    </tr>\n",
       "    <tr>\n",
       "      <th>18</th>\n",
       "      <td>illum quis cupiditate provident sit magnam\\nea...</td>\n",
       "      <td>19</td>\n",
       "      <td>adipisci placeat illum aut reiciendis qui</td>\n",
       "      <td>2</td>\n",
       "    </tr>\n",
       "    <tr>\n",
       "      <th>19</th>\n",
       "      <td>qui consequuntur ducimus possimus quisquam ame...</td>\n",
       "      <td>20</td>\n",
       "      <td>doloribus ad provident suscipit at</td>\n",
       "      <td>2</td>\n",
       "    </tr>\n",
       "    <tr>\n",
       "      <th>20</th>\n",
       "      <td>repellat aliquid praesentium dolorem quo\\nsed ...</td>\n",
       "      <td>21</td>\n",
       "      <td>asperiores ea ipsam voluptatibus modi minima q...</td>\n",
       "      <td>3</td>\n",
       "    </tr>\n",
       "    <tr>\n",
       "      <th>21</th>\n",
       "      <td>eos qui et ipsum ipsam suscipit aut\\nsed omnis...</td>\n",
       "      <td>22</td>\n",
       "      <td>dolor sint quo a velit explicabo quia nam</td>\n",
       "      <td>3</td>\n",
       "    </tr>\n",
       "    <tr>\n",
       "      <th>22</th>\n",
       "      <td>veritatis unde neque eligendi\\nquae quod archi...</td>\n",
       "      <td>23</td>\n",
       "      <td>maxime id vitae nihil numquam</td>\n",
       "      <td>3</td>\n",
       "    </tr>\n",
       "    <tr>\n",
       "      <th>23</th>\n",
       "      <td>enim et ex nulla\\nomnis voluptas quia qui\\nvol...</td>\n",
       "      <td>24</td>\n",
       "      <td>autem hic labore sunt dolores incidunt</td>\n",
       "      <td>3</td>\n",
       "    </tr>\n",
       "    <tr>\n",
       "      <th>24</th>\n",
       "      <td>ullam consequatur ut\\nomnis quis sit vel conse...</td>\n",
       "      <td>25</td>\n",
       "      <td>rem alias distinctio quo quis</td>\n",
       "      <td>3</td>\n",
       "    </tr>\n",
       "    <tr>\n",
       "      <th>25</th>\n",
       "      <td>similique esse doloribus nihil accusamus\\nomni...</td>\n",
       "      <td>26</td>\n",
       "      <td>est et quae odit qui non</td>\n",
       "      <td>3</td>\n",
       "    </tr>\n",
       "    <tr>\n",
       "      <th>26</th>\n",
       "      <td>eum sed dolores ipsam sint possimus debitis oc...</td>\n",
       "      <td>27</td>\n",
       "      <td>quasi id et eos tenetur aut quo autem</td>\n",
       "      <td>3</td>\n",
       "    </tr>\n",
       "    <tr>\n",
       "      <th>27</th>\n",
       "      <td>non et quaerat ex quae ad maiores\\nmaiores rec...</td>\n",
       "      <td>28</td>\n",
       "      <td>delectus ullam et corporis nulla voluptas sequi</td>\n",
       "      <td>3</td>\n",
       "    </tr>\n",
       "    <tr>\n",
       "      <th>28</th>\n",
       "      <td>odit magnam ut saepe sed non qui\\ntempora atqu...</td>\n",
       "      <td>29</td>\n",
       "      <td>iusto eius quod necessitatibus culpa ea</td>\n",
       "      <td>3</td>\n",
       "    </tr>\n",
       "    <tr>\n",
       "      <th>29</th>\n",
       "      <td>alias dolor cumque\\nimpedit blanditiis non eve...</td>\n",
       "      <td>30</td>\n",
       "      <td>a quo magni similique perferendis</td>\n",
       "      <td>3</td>\n",
       "    </tr>\n",
       "    <tr>\n",
       "      <th>...</th>\n",
       "      <td>...</td>\n",
       "      <td>...</td>\n",
       "      <td>...</td>\n",
       "      <td>...</td>\n",
       "    </tr>\n",
       "    <tr>\n",
       "      <th>70</th>\n",
       "      <td>occaecati a doloribus\\niste saepe consectetur ...</td>\n",
       "      <td>71</td>\n",
       "      <td>et iusto veniam et illum aut fuga</td>\n",
       "      <td>8</td>\n",
       "    </tr>\n",
       "    <tr>\n",
       "      <th>71</th>\n",
       "      <td>quam occaecati qui deleniti consectetur\\nconse...</td>\n",
       "      <td>72</td>\n",
       "      <td>sint hic doloribus consequatur eos non id</td>\n",
       "      <td>8</td>\n",
       "    </tr>\n",
       "    <tr>\n",
       "      <th>72</th>\n",
       "      <td>voluptatem cumque tenetur consequatur expedita...</td>\n",
       "      <td>73</td>\n",
       "      <td>consequuntur deleniti eos quia temporibus ab a...</td>\n",
       "      <td>8</td>\n",
       "    </tr>\n",
       "    <tr>\n",
       "      <th>73</th>\n",
       "      <td>odit qui et et necessitatibus sint veniam\\nmol...</td>\n",
       "      <td>74</td>\n",
       "      <td>enim unde ratione doloribus quas enim ut sit s...</td>\n",
       "      <td>8</td>\n",
       "    </tr>\n",
       "    <tr>\n",
       "      <th>74</th>\n",
       "      <td>commodi non non omnis et voluptas sit\\nautem a...</td>\n",
       "      <td>75</td>\n",
       "      <td>dignissimos eum dolor ut enim et delectus in</td>\n",
       "      <td>8</td>\n",
       "    </tr>\n",
       "    <tr>\n",
       "      <th>75</th>\n",
       "      <td>ut animi facere\\ntotam iusto tempore\\nmolestia...</td>\n",
       "      <td>76</td>\n",
       "      <td>doloremque officiis ad et non perferendis</td>\n",
       "      <td>8</td>\n",
       "    </tr>\n",
       "    <tr>\n",
       "      <th>76</th>\n",
       "      <td>modi ut in nulla repudiandae dolorum nostrum e...</td>\n",
       "      <td>77</td>\n",
       "      <td>necessitatibus quasi exercitationem odio</td>\n",
       "      <td>8</td>\n",
       "    </tr>\n",
       "    <tr>\n",
       "      <th>77</th>\n",
       "      <td>nobis facilis odit tempore cupiditate quia\\nas...</td>\n",
       "      <td>78</td>\n",
       "      <td>quam voluptatibus rerum veritatis</td>\n",
       "      <td>8</td>\n",
       "    </tr>\n",
       "    <tr>\n",
       "      <th>78</th>\n",
       "      <td>libero accusantium et et facere incidunt sit d...</td>\n",
       "      <td>79</td>\n",
       "      <td>pariatur consequatur quia magnam autem omnis n...</td>\n",
       "      <td>8</td>\n",
       "    </tr>\n",
       "    <tr>\n",
       "      <th>79</th>\n",
       "      <td>ex quod dolorem ea eum iure qui provident amet...</td>\n",
       "      <td>80</td>\n",
       "      <td>labore in ex et explicabo corporis aut quas</td>\n",
       "      <td>8</td>\n",
       "    </tr>\n",
       "    <tr>\n",
       "      <th>80</th>\n",
       "      <td>facere qui nesciunt est voluptatum voluptatem ...</td>\n",
       "      <td>81</td>\n",
       "      <td>tempora rem veritatis voluptas quo dolores vero</td>\n",
       "      <td>9</td>\n",
       "    </tr>\n",
       "    <tr>\n",
       "      <th>81</th>\n",
       "      <td>ut libero sit aut totam inventore sunt\\nporro ...</td>\n",
       "      <td>82</td>\n",
       "      <td>laudantium voluptate suscipit sunt enim enim</td>\n",
       "      <td>9</td>\n",
       "    </tr>\n",
       "    <tr>\n",
       "      <th>82</th>\n",
       "      <td>est molestiae facilis quis tempora numquam nih...</td>\n",
       "      <td>83</td>\n",
       "      <td>odit et voluptates doloribus alias odio et</td>\n",
       "      <td>9</td>\n",
       "    </tr>\n",
       "    <tr>\n",
       "      <th>83</th>\n",
       "      <td>sint molestiae magni a et quos\\neaque et quasi...</td>\n",
       "      <td>84</td>\n",
       "      <td>optio ipsam molestias necessitatibus occaecati...</td>\n",
       "      <td>9</td>\n",
       "    </tr>\n",
       "    <tr>\n",
       "      <th>84</th>\n",
       "      <td>similique sed nisi voluptas iusto omnis\\nmolli...</td>\n",
       "      <td>85</td>\n",
       "      <td>dolore veritatis porro provident adipisci blan...</td>\n",
       "      <td>9</td>\n",
       "    </tr>\n",
       "    <tr>\n",
       "      <th>85</th>\n",
       "      <td>quasi excepturi consequatur iste autem tempori...</td>\n",
       "      <td>86</td>\n",
       "      <td>placeat quia et porro iste</td>\n",
       "      <td>9</td>\n",
       "    </tr>\n",
       "    <tr>\n",
       "      <th>86</th>\n",
       "      <td>eos et molestiae\\nnesciunt ut a\\ndolores persp...</td>\n",
       "      <td>87</td>\n",
       "      <td>nostrum quis quasi placeat</td>\n",
       "      <td>9</td>\n",
       "    </tr>\n",
       "    <tr>\n",
       "      <th>87</th>\n",
       "      <td>consequatur omnis est praesentium\\nducimus non...</td>\n",
       "      <td>88</td>\n",
       "      <td>sapiente omnis fugit eos</td>\n",
       "      <td>9</td>\n",
       "    </tr>\n",
       "    <tr>\n",
       "      <th>88</th>\n",
       "      <td>repellat aut aperiam totam temporibus autem et...</td>\n",
       "      <td>89</td>\n",
       "      <td>sint soluta et vel magnam aut ut sed qui</td>\n",
       "      <td>9</td>\n",
       "    </tr>\n",
       "    <tr>\n",
       "      <th>89</th>\n",
       "      <td>minus omnis soluta quia\\nqui sed adipisci volu...</td>\n",
       "      <td>90</td>\n",
       "      <td>ad iusto omnis odit dolor voluptatibus</td>\n",
       "      <td>9</td>\n",
       "    </tr>\n",
       "    <tr>\n",
       "      <th>90</th>\n",
       "      <td>libero voluptate eveniet aperiam sed\\nsunt pla...</td>\n",
       "      <td>91</td>\n",
       "      <td>aut amet sed</td>\n",
       "      <td>10</td>\n",
       "    </tr>\n",
       "    <tr>\n",
       "      <th>91</th>\n",
       "      <td>aut et excepturi dicta laudantium sint rerum n...</td>\n",
       "      <td>92</td>\n",
       "      <td>ratione ex tenetur perferendis</td>\n",
       "      <td>10</td>\n",
       "    </tr>\n",
       "    <tr>\n",
       "      <th>92</th>\n",
       "      <td>dolorem quibusdam ducimus consequuntur dicta a...</td>\n",
       "      <td>93</td>\n",
       "      <td>beatae soluta recusandae</td>\n",
       "      <td>10</td>\n",
       "    </tr>\n",
       "    <tr>\n",
       "      <th>93</th>\n",
       "      <td>aspernatur expedita soluta quo ab ut similique...</td>\n",
       "      <td>94</td>\n",
       "      <td>qui qui voluptates illo iste minima</td>\n",
       "      <td>10</td>\n",
       "    </tr>\n",
       "    <tr>\n",
       "      <th>94</th>\n",
       "      <td>earum voluptatem facere provident blanditiis v...</td>\n",
       "      <td>95</td>\n",
       "      <td>id minus libero illum nam ad officiis</td>\n",
       "      <td>10</td>\n",
       "    </tr>\n",
       "    <tr>\n",
       "      <th>95</th>\n",
       "      <td>in non odio excepturi sint eum\\nlabore volupta...</td>\n",
       "      <td>96</td>\n",
       "      <td>quaerat velit veniam amet cupiditate aut numqu...</td>\n",
       "      <td>10</td>\n",
       "    </tr>\n",
       "    <tr>\n",
       "      <th>96</th>\n",
       "      <td>eum non blanditiis soluta porro quibusdam volu...</td>\n",
       "      <td>97</td>\n",
       "      <td>quas fugiat ut perspiciatis vero provident</td>\n",
       "      <td>10</td>\n",
       "    </tr>\n",
       "    <tr>\n",
       "      <th>97</th>\n",
       "      <td>doloremque ex facilis sit sint culpa\\nsoluta a...</td>\n",
       "      <td>98</td>\n",
       "      <td>laboriosam dolor voluptates</td>\n",
       "      <td>10</td>\n",
       "    </tr>\n",
       "    <tr>\n",
       "      <th>98</th>\n",
       "      <td>quo deleniti praesentium dicta non quod\\naut e...</td>\n",
       "      <td>99</td>\n",
       "      <td>temporibus sit alias delectus eligendi possimu...</td>\n",
       "      <td>10</td>\n",
       "    </tr>\n",
       "    <tr>\n",
       "      <th>99</th>\n",
       "      <td>cupiditate quo est a modi nesciunt soluta\\nips...</td>\n",
       "      <td>100</td>\n",
       "      <td>at nam consequatur ea labore ea harum</td>\n",
       "      <td>10</td>\n",
       "    </tr>\n",
       "  </tbody>\n",
       "</table>\n",
       "<p>100 rows × 4 columns</p>\n",
       "</div>"
      ],
      "text/plain": [
       "                                                 body   id  \\\n",
       "0   quia et suscipit\\nsuscipit recusandae consequu...    1   \n",
       "1   est rerum tempore vitae\\nsequi sint nihil repr...    2   \n",
       "2   et iusto sed quo iure\\nvoluptatem occaecati om...    3   \n",
       "3   ullam et saepe reiciendis voluptatem adipisci\\...    4   \n",
       "4   repudiandae veniam quaerat sunt sed\\nalias aut...    5   \n",
       "5   ut aspernatur corporis harum nihil quis provid...    6   \n",
       "6   dolore placeat quibusdam ea quo vitae\\nmagni q...    7   \n",
       "7   dignissimos aperiam dolorem qui eum\\nfacilis q...    8   \n",
       "8   consectetur animi nesciunt iure dolore\\nenim q...    9   \n",
       "9   quo et expedita modi cum officia vel magni\\ndo...   10   \n",
       "10  delectus reiciendis molestiae occaecati non mi...   11   \n",
       "11  itaque id aut magnam\\npraesentium quia et ea o...   12   \n",
       "12  aut dicta possimus sint mollitia voluptas comm...   13   \n",
       "13  fuga et accusamus dolorum perferendis illo vol...   14   \n",
       "14  reprehenderit quos placeat\\nvelit minima offic...   15   \n",
       "15  suscipit nam nisi quo aperiam aut\\nasperiores ...   16   \n",
       "16  eos voluptas et aut odit natus earum\\naspernat...   17   \n",
       "17  eveniet quo quis\\nlaborum totam consequatur no...   18   \n",
       "18  illum quis cupiditate provident sit magnam\\nea...   19   \n",
       "19  qui consequuntur ducimus possimus quisquam ame...   20   \n",
       "20  repellat aliquid praesentium dolorem quo\\nsed ...   21   \n",
       "21  eos qui et ipsum ipsam suscipit aut\\nsed omnis...   22   \n",
       "22  veritatis unde neque eligendi\\nquae quod archi...   23   \n",
       "23  enim et ex nulla\\nomnis voluptas quia qui\\nvol...   24   \n",
       "24  ullam consequatur ut\\nomnis quis sit vel conse...   25   \n",
       "25  similique esse doloribus nihil accusamus\\nomni...   26   \n",
       "26  eum sed dolores ipsam sint possimus debitis oc...   27   \n",
       "27  non et quaerat ex quae ad maiores\\nmaiores rec...   28   \n",
       "28  odit magnam ut saepe sed non qui\\ntempora atqu...   29   \n",
       "29  alias dolor cumque\\nimpedit blanditiis non eve...   30   \n",
       "..                                                ...  ...   \n",
       "70  occaecati a doloribus\\niste saepe consectetur ...   71   \n",
       "71  quam occaecati qui deleniti consectetur\\nconse...   72   \n",
       "72  voluptatem cumque tenetur consequatur expedita...   73   \n",
       "73  odit qui et et necessitatibus sint veniam\\nmol...   74   \n",
       "74  commodi non non omnis et voluptas sit\\nautem a...   75   \n",
       "75  ut animi facere\\ntotam iusto tempore\\nmolestia...   76   \n",
       "76  modi ut in nulla repudiandae dolorum nostrum e...   77   \n",
       "77  nobis facilis odit tempore cupiditate quia\\nas...   78   \n",
       "78  libero accusantium et et facere incidunt sit d...   79   \n",
       "79  ex quod dolorem ea eum iure qui provident amet...   80   \n",
       "80  facere qui nesciunt est voluptatum voluptatem ...   81   \n",
       "81  ut libero sit aut totam inventore sunt\\nporro ...   82   \n",
       "82  est molestiae facilis quis tempora numquam nih...   83   \n",
       "83  sint molestiae magni a et quos\\neaque et quasi...   84   \n",
       "84  similique sed nisi voluptas iusto omnis\\nmolli...   85   \n",
       "85  quasi excepturi consequatur iste autem tempori...   86   \n",
       "86  eos et molestiae\\nnesciunt ut a\\ndolores persp...   87   \n",
       "87  consequatur omnis est praesentium\\nducimus non...   88   \n",
       "88  repellat aut aperiam totam temporibus autem et...   89   \n",
       "89  minus omnis soluta quia\\nqui sed adipisci volu...   90   \n",
       "90  libero voluptate eveniet aperiam sed\\nsunt pla...   91   \n",
       "91  aut et excepturi dicta laudantium sint rerum n...   92   \n",
       "92  dolorem quibusdam ducimus consequuntur dicta a...   93   \n",
       "93  aspernatur expedita soluta quo ab ut similique...   94   \n",
       "94  earum voluptatem facere provident blanditiis v...   95   \n",
       "95  in non odio excepturi sint eum\\nlabore volupta...   96   \n",
       "96  eum non blanditiis soluta porro quibusdam volu...   97   \n",
       "97  doloremque ex facilis sit sint culpa\\nsoluta a...   98   \n",
       "98  quo deleniti praesentium dicta non quod\\naut e...   99   \n",
       "99  cupiditate quo est a modi nesciunt soluta\\nips...  100   \n",
       "\n",
       "                                                title  userId  \n",
       "0   sunt aut facere repellat provident occaecati e...       1  \n",
       "1                                        qui est esse       1  \n",
       "2   ea molestias quasi exercitationem repellat qui...       1  \n",
       "3                                eum et est occaecati       1  \n",
       "4                                  nesciunt quas odio       1  \n",
       "5                  dolorem eum magni eos aperiam quia       1  \n",
       "6                                magnam facilis autem       1  \n",
       "7                            dolorem dolore est ipsam       1  \n",
       "8   nesciunt iure omnis dolorem tempora et accusan...       1  \n",
       "9                         optio molestias id quia eum       1  \n",
       "10                   et ea vero quia laudantium autem       2  \n",
       "11              in quibusdam tempore odit est dolorem       2  \n",
       "12  dolorum ut in voluptas mollitia et saepe quo a...       2  \n",
       "13                          voluptatem eligendi optio       2  \n",
       "14                            eveniet quod temporibus       2  \n",
       "15  sint suscipit perspiciatis velit dolorum rerum...       2  \n",
       "16  fugit voluptas sed molestias voluptatem provident       2  \n",
       "17         voluptate et itaque vero tempora molestiae       2  \n",
       "18          adipisci placeat illum aut reiciendis qui       2  \n",
       "19                 doloribus ad provident suscipit at       2  \n",
       "20  asperiores ea ipsam voluptatibus modi minima q...       3  \n",
       "21          dolor sint quo a velit explicabo quia nam       3  \n",
       "22                      maxime id vitae nihil numquam       3  \n",
       "23             autem hic labore sunt dolores incidunt       3  \n",
       "24                      rem alias distinctio quo quis       3  \n",
       "25                           est et quae odit qui non       3  \n",
       "26              quasi id et eos tenetur aut quo autem       3  \n",
       "27    delectus ullam et corporis nulla voluptas sequi       3  \n",
       "28            iusto eius quod necessitatibus culpa ea       3  \n",
       "29                  a quo magni similique perferendis       3  \n",
       "..                                                ...     ...  \n",
       "70                  et iusto veniam et illum aut fuga       8  \n",
       "71          sint hic doloribus consequatur eos non id       8  \n",
       "72  consequuntur deleniti eos quia temporibus ab a...       8  \n",
       "73  enim unde ratione doloribus quas enim ut sit s...       8  \n",
       "74       dignissimos eum dolor ut enim et delectus in       8  \n",
       "75          doloremque officiis ad et non perferendis       8  \n",
       "76           necessitatibus quasi exercitationem odio       8  \n",
       "77                  quam voluptatibus rerum veritatis       8  \n",
       "78  pariatur consequatur quia magnam autem omnis n...       8  \n",
       "79        labore in ex et explicabo corporis aut quas       8  \n",
       "80    tempora rem veritatis voluptas quo dolores vero       9  \n",
       "81       laudantium voluptate suscipit sunt enim enim       9  \n",
       "82         odit et voluptates doloribus alias odio et       9  \n",
       "83  optio ipsam molestias necessitatibus occaecati...       9  \n",
       "84  dolore veritatis porro provident adipisci blan...       9  \n",
       "85                         placeat quia et porro iste       9  \n",
       "86                         nostrum quis quasi placeat       9  \n",
       "87                           sapiente omnis fugit eos       9  \n",
       "88           sint soluta et vel magnam aut ut sed qui       9  \n",
       "89             ad iusto omnis odit dolor voluptatibus       9  \n",
       "90                                       aut amet sed      10  \n",
       "91                     ratione ex tenetur perferendis      10  \n",
       "92                           beatae soluta recusandae      10  \n",
       "93                qui qui voluptates illo iste minima      10  \n",
       "94              id minus libero illum nam ad officiis      10  \n",
       "95  quaerat velit veniam amet cupiditate aut numqu...      10  \n",
       "96         quas fugiat ut perspiciatis vero provident      10  \n",
       "97                        laboriosam dolor voluptates      10  \n",
       "98  temporibus sit alias delectus eligendi possimu...      10  \n",
       "99              at nam consequatur ea labore ea harum      10  \n",
       "\n",
       "[100 rows x 4 columns]"
      ]
     },
     "execution_count": 123,
     "metadata": {},
     "output_type": "execute_result"
    }
   ],
   "source": [
    "df=pd.read_json('posts.json')\n",
    "df"
   ]
  },
  {
   "cell_type": "markdown",
   "metadata": {},
   "source": [
    "# text file"
   ]
  },
  {
   "cell_type": "code",
   "execution_count": 125,
   "metadata": {},
   "outputs": [
    {
     "data": {
      "text/html": [
       "<div>\n",
       "<style scoped>\n",
       "    .dataframe tbody tr th:only-of-type {\n",
       "        vertical-align: middle;\n",
       "    }\n",
       "\n",
       "    .dataframe tbody tr th {\n",
       "        vertical-align: top;\n",
       "    }\n",
       "\n",
       "    .dataframe thead th {\n",
       "        text-align: right;\n",
       "    }\n",
       "</style>\n",
       "<table border=\"1\" class=\"dataframe\">\n",
       "  <thead>\n",
       "    <tr style=\"text-align: right;\">\n",
       "      <th></th>\n",
       "      <th>The Zen of Python, by Tim Peters</th>\n",
       "    </tr>\n",
       "  </thead>\n",
       "  <tbody>\n",
       "    <tr>\n",
       "      <th>0</th>\n",
       "      <td>Beautiful is better than ugly.</td>\n",
       "    </tr>\n",
       "    <tr>\n",
       "      <th>1</th>\n",
       "      <td>Explicit is better than implicit.</td>\n",
       "    </tr>\n",
       "    <tr>\n",
       "      <th>2</th>\n",
       "      <td>Simple is better than complex.</td>\n",
       "    </tr>\n",
       "    <tr>\n",
       "      <th>3</th>\n",
       "      <td>Complex is better than complicated.</td>\n",
       "    </tr>\n",
       "    <tr>\n",
       "      <th>4</th>\n",
       "      <td>Flat is better than nested.</td>\n",
       "    </tr>\n",
       "    <tr>\n",
       "      <th>5</th>\n",
       "      <td>Sparse is better than dense.</td>\n",
       "    </tr>\n",
       "    <tr>\n",
       "      <th>6</th>\n",
       "      <td>Readability counts.</td>\n",
       "    </tr>\n",
       "  </tbody>\n",
       "</table>\n",
       "</div>"
      ],
      "text/plain": [
       "      The Zen of Python, by Tim Peters\n",
       "0       Beautiful is better than ugly.\n",
       "1    Explicit is better than implicit.\n",
       "2       Simple is better than complex.\n",
       "3  Complex is better than complicated.\n",
       "4          Flat is better than nested.\n",
       "5         Sparse is better than dense.\n",
       "6                  Readability counts."
      ]
     },
     "execution_count": 125,
     "metadata": {},
     "output_type": "execute_result"
    }
   ],
   "source": [
    "df=pd.read_table('basic.txt')\n",
    "df"
   ]
  },
  {
   "cell_type": "code",
   "execution_count": null,
   "metadata": {},
   "outputs": [],
   "source": []
  }
 ],
 "metadata": {
  "kernelspec": {
   "display_name": "Python 3",
   "language": "python",
   "name": "python3"
  },
  "language_info": {
   "codemirror_mode": {
    "name": "ipython",
    "version": 3
   },
   "file_extension": ".py",
   "mimetype": "text/x-python",
   "name": "python",
   "nbconvert_exporter": "python",
   "pygments_lexer": "ipython3",
   "version": "3.6.5"
  }
 },
 "nbformat": 4,
 "nbformat_minor": 2
}
